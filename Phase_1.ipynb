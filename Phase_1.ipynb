{
  "nbformat": 4,
  "nbformat_minor": 0,
  "metadata": {
    "colab": {
      "name": "Phase-1.ipynb",
      "provenance": [],
      "collapsed_sections": []
    },
    "kernelspec": {
      "display_name": "Python 3",
      "name": "python3"
    },
    "language_info": {
      "name": "python"
    }
  },
  "cells": [
    {
      "cell_type": "markdown",
      "metadata": {
        "id": "miKm4xldpUhL"
      },
      "source": [
        "**Dataset**<br>\n",
        "https://www.kaggle.com/meowmeowmeowmeowmeow/gtsrb-german-traffic-sign"
      ]
    },
    {
      "cell_type": "code",
      "metadata": {
        "id": "DLCjljGb0x5b"
      },
      "source": [
        "import torch\n",
        "import torch.nn as nn\n",
        "import torchvision.transforms as transforms\n",
        "import torchvision.datasets as dsets\n",
        "import os\n",
        "import cv2"
      ],
      "execution_count": null,
      "outputs": []
    },
    {
      "cell_type": "code",
      "metadata": {
        "id": "gmDkzCVr1efX"
      },
      "source": [
        "data_dir = '/content/drive/MyDrive/Datasets/ML'\n",
        "train_path = '/content/drive/MyDrive/Datasets/ML/train_two'\n",
        "test_path = '/content/drive/MyDrive/Datasets/ML/test_two'\n",
        "gtrain_path='/content/drive/MyDrive/Datasets/ML/gray_train'\n",
        "gtest_path='/content/drive/MyDrive/Datasets/ML/gtest_two'"
      ],
      "execution_count": null,
      "outputs": []
    },
    {
      "cell_type": "markdown",
      "metadata": {
        "id": "MipN2bLDl1gR"
      },
      "source": [
        "**Converting RGB to GrayScale**"
      ]
    },
    {
      "cell_type": "code",
      "metadata": {
        "colab": {
          "base_uri": "https://localhost:8080/"
        },
        "id": "dUBsNVr_oerM",
        "outputId": "e49741fc-4867-4870-ae29-51836e55de77"
      },
      "source": [
        "NUM_CATEGORIES = len(os.listdir(train_path))\n",
        "NUM_CATEGORIES"
      ],
      "execution_count": null,
      "outputs": [
        {
          "output_type": "execute_result",
          "data": {
            "text/plain": [
              "2"
            ]
          },
          "metadata": {},
          "execution_count": 25
        }
      ]
    },
    {
      "cell_type": "code",
      "metadata": {
        "id": "XlQwP9e5oX6Z"
      },
      "source": [
        "for i in range(NUM_CATEGORIES):\n",
        "    path = data_dir + '/train/' + str(i)\n",
        "    images = os.listdir(path)\n",
        "    count=0\n",
        "    for img in images:\n",
        "            imgGray = cv2.imread(path + '/' + img,0)\n",
        "            cv2.imwrite(data_dir+'/gray_train/'+str(i)+'/'+str(count) +\".png\", imgGray)\n",
        "            count=count+1"
      ],
      "execution_count": null,
      "outputs": []
    },
    {
      "cell_type": "code",
      "metadata": {
        "id": "BGXexcBfMrOe",
        "colab": {
          "base_uri": "https://localhost:8080/"
        },
        "outputId": "c211aad3-bb04-4824-85f5-4a07bf7984e4"
      },
      "source": [
        "path = data_dir + '/test_two/neede'\n",
        "images = os.listdir(path)\n",
        "count=0\n",
        "for img in images:\n",
        "  try:\n",
        "      imgGray = cv2.imread(path + '/' + img,0)\n",
        "      cv2.imwrite(data_dir+'/gtest_two/gtest/'+str(count) +\".png\", imgGray)\n",
        "      count=count+1\n",
        "  except:\n",
        "      print(\"Error in \"+img)"
      ],
      "execution_count": null,
      "outputs": [
        {
          "output_type": "stream",
          "name": "stdout",
          "text": [
            "Error in neede\n"
          ]
        }
      ]
    },
    {
      "cell_type": "markdown",
      "metadata": {
        "id": "19Ij1YQJmASU"
      },
      "source": [
        "**Image Pre-processing**"
      ]
    },
    {
      "cell_type": "code",
      "metadata": {
        "id": "BCsajnIz9xAR"
      },
      "source": [
        "transform = transforms.Compose([\n",
        "    transforms.Resize((32, 32)),\n",
        "    transforms.ToTensor(),\n",
        "    transforms.Grayscale(num_output_channels=1)\n",
        "])"
      ],
      "execution_count": null,
      "outputs": []
    },
    {
      "cell_type": "code",
      "metadata": {
        "id": "WUjIrRYc-HBs"
      },
      "source": [
        "train_dataset = dsets.ImageFolder(train_path,transform=transform)\n",
        "test_dataset= dsets.ImageFolder(gtest_path,transform=transform)"
      ],
      "execution_count": null,
      "outputs": []
    },
    {
      "cell_type": "code",
      "metadata": {
        "colab": {
          "base_uri": "https://localhost:8080/"
        },
        "id": "WqMENxtxxfx9",
        "outputId": "72f38e6b-4388-44f4-8276-1b7abaf375c7"
      },
      "source": [
        "train_dataset[0][0].size()"
      ],
      "execution_count": null,
      "outputs": [
        {
          "output_type": "execute_result",
          "data": {
            "text/plain": [
              "torch.Size([1, 32, 32])"
            ]
          },
          "metadata": {},
          "execution_count": 29
        }
      ]
    },
    {
      "cell_type": "code",
      "metadata": {
        "colab": {
          "base_uri": "https://localhost:8080/"
        },
        "id": "GEdOGX264_ti",
        "outputId": "8fa1ff5d-2a63-4230-c684-a58b687c293f"
      },
      "source": [
        "from google.colab import drive\n",
        "drive.mount('/content/drive')"
      ],
      "execution_count": null,
      "outputs": [
        {
          "output_type": "stream",
          "name": "stdout",
          "text": [
            "Mounted at /content/drive\n"
          ]
        }
      ]
    },
    {
      "cell_type": "code",
      "metadata": {
        "id": "a54CqiAc6tjD"
      },
      "source": [
        "batch_size = 100\n",
        "n_iters = 3000\n",
        "num_epochs = n_iters / (len(train_dataset) / batch_size)\n",
        "num_epochs = int(num_epochs)\n",
        "\n",
        "train_loader = torch.utils.data.DataLoader(dataset=train_dataset, \n",
        "                                           batch_size=batch_size, \n",
        "                                           shuffle=True)\n",
        "\n",
        "test_loader = torch.utils.data.DataLoader(dataset=test_dataset, \n",
        "                                          batch_size=batch_size, \n",
        "                                          shuffle=False)"
      ],
      "execution_count": null,
      "outputs": []
    },
    {
      "cell_type": "markdown",
      "metadata": {
        "id": "oMBBLodJmN-8"
      },
      "source": [
        "**Sigmoid Activation**"
      ]
    },
    {
      "cell_type": "code",
      "metadata": {
        "id": "t8T8PwsG61a8"
      },
      "source": [
        "class FeedforwardNeuralNetModel(nn.Module):\n",
        "    def __init__(self, input_dim, hidden_dim, output_dim):\n",
        "        super(FeedforwardNeuralNetModel, self).__init__()\n",
        "        self.fc1 = nn.Linear(input_dim, hidden_dim) \n",
        "        # Non-linearity 1\n",
        "        self.Sigmoid1 = nn.Sigmoid()\n",
        " \n",
        "        # Linear function 2: 100 --> 100\n",
        "        self.fc2 = nn.Linear(hidden_dim, hidden_dim)\n",
        "        # Non-linearity 2\n",
        "        self.Sigmoid2 = nn.Sigmoid()\n",
        " \n",
        "        # Linear function 3: 100 --> 100\n",
        "        self.fc3 = nn.Linear(hidden_dim, hidden_dim)\n",
        "        # Non-linearity 3\n",
        "        self.Sigmoid3 = nn.Sigmoid()\n",
        " \n",
        "        # Linear function 4 (readout): 100 --> 10\n",
        "        self.fc4 = nn.Linear(hidden_dim, output_dim) \n",
        " \n",
        "    def forward(self, x):\n",
        "        # Linear function 1\n",
        "        out = self.fc1(x)\n",
        "        # Non-linearity 1\n",
        "        out = self.Sigmoid1(out)\n",
        " \n",
        "        # Linear function 2\n",
        "        out = self.fc2(out)\n",
        "        # Non-linearity 2\n",
        "        out = self.Sigmoid2(out)\n",
        " \n",
        "        # Linear function 2\n",
        "        out = self.fc3(out)\n",
        "        # Non-linearity 2\n",
        "        out = self.Sigmoid3(out)\n",
        " \n",
        "        # Linear function 4 (readout)\n",
        "        out = self.fc4(out)\n",
        "        return out"
      ],
      "execution_count": null,
      "outputs": []
    },
    {
      "cell_type": "code",
      "metadata": {
        "id": "NyHQ3Jsf8pM8"
      },
      "source": [
        "input_dim = 32*32\n",
        "hidden_dim = 100\n",
        "output_dim = 2\n",
        "\n",
        "model = FeedforwardNeuralNetModel(input_dim, hidden_dim, output_dim)"
      ],
      "execution_count": null,
      "outputs": []
    },
    {
      "cell_type": "code",
      "metadata": {
        "id": "EB5cNBV59Gvb"
      },
      "source": [
        "criterion = nn.CrossEntropyLoss()"
      ],
      "execution_count": null,
      "outputs": []
    },
    {
      "cell_type": "code",
      "metadata": {
        "id": "eT8c2rt59U1v"
      },
      "source": [
        "learning_rate = 0.1\n",
        "\n",
        "optimizer = torch.optim.SGD(model.parameters(), lr=learning_rate)  "
      ],
      "execution_count": null,
      "outputs": []
    },
    {
      "cell_type": "code",
      "metadata": {
        "colab": {
          "base_uri": "https://localhost:8080/"
        },
        "id": "KsI-Dyqd94Pe",
        "outputId": "1d23b9bf-31d6-40fc-f393-ee8008755912"
      },
      "source": [
        "print(model.parameters())\n",
        "print(len(list(model.parameters())))\n",
        "# FC 1 Parameters \n",
        "print(list(model.parameters())[0].size())\n",
        "# FC 1 Bias Parameters\n",
        "print(list(model.parameters())[1].size())\n",
        "# FC 2 Parameters\n",
        "print(list(model.parameters())[2].size())\n",
        "# FC 2 Bias Parameters\n",
        "print(list(model.parameters())[3].size())\n",
        "# FC 3 Parameters\n",
        "print(list(model.parameters())[4].size())\n",
        "# FC 3 Bias Parameters\n",
        "print(list(model.parameters())[5].size())\n",
        "# FC 4 Parameters\n",
        "print(list(model.parameters())[6].size())\n",
        "# FC 4 Bias Parameters\n",
        "print(list(model.parameters())[7].size())"
      ],
      "execution_count": null,
      "outputs": [
        {
          "output_type": "stream",
          "name": "stdout",
          "text": [
            "<generator object Module.parameters at 0x7ff69bd825d0>\n",
            "8\n",
            "torch.Size([100, 1024])\n",
            "torch.Size([100])\n",
            "torch.Size([100, 100])\n",
            "torch.Size([100])\n",
            "torch.Size([100, 100])\n",
            "torch.Size([100])\n",
            "torch.Size([2, 100])\n",
            "torch.Size([2])\n"
          ]
        }
      ]
    },
    {
      "cell_type": "code",
      "metadata": {
        "colab": {
          "base_uri": "https://localhost:8080/"
        },
        "id": "2Fo4VTz6-CBJ",
        "outputId": "673badf2-bae5-4368-9bc8-18d67e4ab5d3"
      },
      "source": [
        "iter = 0\n",
        "for epoch in range(num_epochs):\n",
        "    for i, (images, labels) in enumerate(train_loader):\n",
        "        # Load images with gradient accumulation capabilities\n",
        "        images = images.view(-1, 32*32).requires_grad_()\n",
        "\n",
        "        # Clear gradients w.r.t. parameters\n",
        "        optimizer.zero_grad()\n",
        "\n",
        "        # Forward pass to get output/logits\n",
        "        outputs = model(images)\n",
        "        \n",
        "\n",
        "        # Calculate Loss: softmax --> cross entropy loss\n",
        "        loss = criterion(outputs, labels)\n",
        "\n",
        "        # Getting gradients w.r.t. parameters\n",
        "        loss.backward()\n",
        "\n",
        "        # Updating parameters\n",
        "        optimizer.step()\n",
        "\n",
        "        iter += 1\n",
        "\n",
        "        if iter % 500 == 0:\n",
        "            # Calculate Accuracy         \n",
        "            correct = 0\n",
        "            total = 0\n",
        "            # Iterate through test dataset\n",
        "            for images, labels in test_loader:\n",
        "                # Load images with gradient accumulation capabilities\n",
        "                images = images.view(-1, 32*32).requires_grad_()\n",
        "\n",
        "                # Forward pass only to get logits/output\n",
        "                outputs = model(images)\n",
        "\n",
        "                # Get predictions from the maximum value\n",
        "                _, predicted = torch.max(outputs.data, 1)\n",
        "\n",
        "                # Total number of labels\n",
        "                total += labels.size(0)\n",
        "\n",
        "                # Total correct predictions\n",
        "                correct += (predicted == labels).sum()\n",
        "\n",
        "            accuracy = 100 * correct / total\n",
        "\n",
        "            # Print Loss\n",
        "            print('Iteration: {}. Loss: {}. Accuracy: {}'.format(iter, loss.item(), accuracy))\n",
        "            Sigmoid_accuracy=float(accuracy)\n",
        "            Sigmoid_loss=loss.item()"
      ],
      "execution_count": null,
      "outputs": [
        {
          "output_type": "stream",
          "name": "stdout",
          "text": [
            "Iteration: 500. Loss: 0.7277170419692993. Accuracy: 0.0\n",
            "Iteration: 1000. Loss: 0.6849307417869568. Accuracy: 52.0\n",
            "Iteration: 1500. Loss: 0.49341484904289246. Accuracy: 54.0\n",
            "Iteration: 2000. Loss: 0.45661500096321106. Accuracy: 65.0\n",
            "Iteration: 2500. Loss: 0.32022133469581604. Accuracy: 51.0\n",
            "Iteration: 3000. Loss: 0.15029945969581604. Accuracy: 62.0\n"
          ]
        }
      ]
    },
    {
      "cell_type": "markdown",
      "metadata": {
        "id": "yV_Ef_jG6Qwr"
      },
      "source": [
        "**Tanh Activation**"
      ]
    },
    {
      "cell_type": "code",
      "metadata": {
        "id": "rJ1aeHUL5nLp"
      },
      "source": [
        "class FeedforwardNeuralNetModel_tanh(nn.Module):\n",
        "    def __init__(self, input_dim, hidden_dim, output_dim):\n",
        "        super(FeedforwardNeuralNetModel_tanh, self).__init__()\n",
        "        self.fc1 = nn.Linear(input_dim, hidden_dim) \n",
        "        # Non-linearity 1\n",
        "        self.tanh1 = nn.Tanh()\n",
        " \n",
        "        # Linear function 2: 100 --> 100\n",
        "        self.fc2 = nn.Linear(hidden_dim, hidden_dim)\n",
        "        # Non-linearity 2\n",
        "        self.tanh2 = nn.Tanh()\n",
        " \n",
        "        # Linear function 3: 100 --> 100\n",
        "        self.fc3 = nn.Linear(hidden_dim, hidden_dim)\n",
        "        # Non-linearity 3\n",
        "        self.tanh3 = nn.Tanh()\n",
        " \n",
        "        # Linear function 4 (readout): 100 --> 10\n",
        "        self.fc4 = nn.Linear(hidden_dim, output_dim) \n",
        " \n",
        "    def forward(self, x):\n",
        "        # Linear function 1\n",
        "        out = self.fc1(x)\n",
        "        # Non-linearity 1\n",
        "        out = self.tanh1(out)\n",
        " \n",
        "        # Linear function 2\n",
        "        out = self.fc2(out)\n",
        "        # Non-linearity 2\n",
        "        out = self.tanh2(out)\n",
        " \n",
        "        # Linear function 2\n",
        "        out = self.fc3(out)\n",
        "        # Non-linearity 2\n",
        "        out = self.tanh3(out)\n",
        " \n",
        "        # Linear function 4 (readout)\n",
        "        out = self.fc4(out)\n",
        "        return out"
      ],
      "execution_count": null,
      "outputs": []
    },
    {
      "cell_type": "code",
      "metadata": {
        "id": "oOKns0bm7qyt"
      },
      "source": [
        "input_dim = 32*32\n",
        "hidden_dim = 100\n",
        "output_dim = 2\n",
        "\n",
        "model = FeedforwardNeuralNetModel_tanh(input_dim, hidden_dim, output_dim)"
      ],
      "execution_count": null,
      "outputs": []
    },
    {
      "cell_type": "code",
      "metadata": {
        "id": "ni5e9_7t8Dyc"
      },
      "source": [
        "criterion = nn.CrossEntropyLoss()"
      ],
      "execution_count": null,
      "outputs": []
    },
    {
      "cell_type": "code",
      "metadata": {
        "id": "pN2C0r0o8IrS"
      },
      "source": [
        "learning_rate = 0.1\n",
        "\n",
        "optimizer = torch.optim.SGD(model.parameters(), lr=learning_rate)"
      ],
      "execution_count": null,
      "outputs": []
    },
    {
      "cell_type": "code",
      "metadata": {
        "colab": {
          "base_uri": "https://localhost:8080/"
        },
        "id": "ReOdhzop8QuQ",
        "outputId": "0ec73215-2809-49bb-e751-92cce5e0a235"
      },
      "source": [
        "print(model.parameters())\n",
        "print(len(list(model.parameters())))\n",
        "# FC 1 Parameters \n",
        "print(list(model.parameters())[0].size())\n",
        "# FC 1 Bias Parameters\n",
        "print(list(model.parameters())[1].size())\n",
        "# FC 2 Parameters\n",
        "print(list(model.parameters())[2].size())\n",
        "# FC 2 Bias Parameters\n",
        "print(list(model.parameters())[3].size())\n",
        "# FC 3 Parameters\n",
        "print(list(model.parameters())[4].size())\n",
        "# FC 3 Bias Parameters\n",
        "print(list(model.parameters())[5].size())\n",
        "# FC 4 Parameters\n",
        "print(list(model.parameters())[6].size())\n",
        "# FC 4 Bias Parameters\n",
        "print(list(model.parameters())[7].size())"
      ],
      "execution_count": null,
      "outputs": [
        {
          "output_type": "stream",
          "name": "stdout",
          "text": [
            "<generator object Module.parameters at 0x7ff6a7429c50>\n",
            "8\n",
            "torch.Size([100, 1024])\n",
            "torch.Size([100])\n",
            "torch.Size([100, 100])\n",
            "torch.Size([100])\n",
            "torch.Size([100, 100])\n",
            "torch.Size([100])\n",
            "torch.Size([2, 100])\n",
            "torch.Size([2])\n"
          ]
        }
      ]
    },
    {
      "cell_type": "code",
      "metadata": {
        "colab": {
          "base_uri": "https://localhost:8080/"
        },
        "id": "MMm60zHo8ZJf",
        "outputId": "7556dca6-fafc-44de-8125-08eff7da6a9f"
      },
      "source": [
        "iter = 0\n",
        "for epoch in range(num_epochs):\n",
        "    for i, (images, labels) in enumerate(train_loader):\n",
        "        # Load images with gradient accumulation capabilities\n",
        "        images = images.view(-1, 32*32).requires_grad_()\n",
        "\n",
        "        # Clear gradients w.r.t. parameters\n",
        "        optimizer.zero_grad()\n",
        "\n",
        "        # Forward pass to get output/logits\n",
        "        outputs = model(images)\n",
        "        \n",
        "\n",
        "        # Calculate Loss: softmax --> cross entropy loss\n",
        "        loss = criterion(outputs, labels)\n",
        "\n",
        "        # Getting gradients w.r.t. parameters\n",
        "        loss.backward()\n",
        "\n",
        "        # Updating parameters\n",
        "        optimizer.step()\n",
        "\n",
        "        iter += 1\n",
        "\n",
        "        if iter % 500 == 0:\n",
        "            # Calculate Accuracy         \n",
        "            correct = 0\n",
        "            total = 0\n",
        "            # Iterate through test dataset\n",
        "            for images, labels in test_loader:\n",
        "                # Load images with gradient accumulation capabilities\n",
        "                images = images.view(-1, 32*32).requires_grad_()\n",
        "\n",
        "                # Forward pass only to get logits/output\n",
        "                outputs = model(images)\n",
        "\n",
        "                # Get predictions from the maximum value\n",
        "                _, predicted = torch.max(outputs.data, 1)\n",
        "\n",
        "                # Total number of labels\n",
        "                total += labels.size(0)\n",
        "\n",
        "                # Total correct predictions\n",
        "                correct += (predicted == labels).sum()\n",
        "\n",
        "            accuracy = 100 * correct / total\n",
        "\n",
        "            # Print Loss\n",
        "            print('Iteration: {}. Loss: {}. Accuracy: {}'.format(iter, loss.item(), accuracy))\n",
        "            tanh_accuracy=accuracy\n",
        "            tanh_loss=loss.item()"
      ],
      "execution_count": null,
      "outputs": [
        {
          "output_type": "stream",
          "name": "stdout",
          "text": [
            "Iteration: 500. Loss: 0.2701485753059387. Accuracy: 66.0\n",
            "Iteration: 1000. Loss: 0.10925821214914322. Accuracy: 62.0\n",
            "Iteration: 1500. Loss: 0.10108263790607452. Accuracy: 61.0\n",
            "Iteration: 2000. Loss: 0.055126212537288666. Accuracy: 61.0\n",
            "Iteration: 2500. Loss: 0.29142192006111145. Accuracy: 64.0\n",
            "Iteration: 3000. Loss: 0.029322674497961998. Accuracy: 63.0\n"
          ]
        }
      ]
    },
    {
      "cell_type": "code",
      "metadata": {
        "id": "TzqhVk_vEWa_"
      },
      "source": [
        "tanh_accuracy=float(tanh_accuracy)"
      ],
      "execution_count": null,
      "outputs": []
    },
    {
      "cell_type": "markdown",
      "metadata": {
        "id": "LyL2FKCSE34Q"
      },
      "source": [
        "**ReLU Activation**"
      ]
    },
    {
      "cell_type": "code",
      "metadata": {
        "id": "gjX2VAzRFBOX"
      },
      "source": [
        "class FeedforwardNeuralNetModel_ReLU(nn.Module):\n",
        "    def __init__(self, input_dim, hidden_dim, output_dim):\n",
        "        super(FeedforwardNeuralNetModel_ReLU, self).__init__()\n",
        "        self.fc1 = nn.Linear(input_dim, hidden_dim) \n",
        "        # Non-linearity 1\n",
        "        self.ReLU1 = nn.ReLU()\n",
        " \n",
        "        # Linear function 2: 100 --> 100\n",
        "        self.fc2 = nn.Linear(hidden_dim, hidden_dim)\n",
        "        # Non-linearity 2\n",
        "        self.ReLU2 = nn.ReLU()\n",
        " \n",
        "        # Linear function 3: 100 --> 100\n",
        "        self.fc3 = nn.Linear(hidden_dim, hidden_dim)\n",
        "        # Non-linearity 3\n",
        "        self.ReLU3 = nn.ReLU()\n",
        " \n",
        "        # Linear function 4 (readout): 100 --> 10\n",
        "        self.fc4 = nn.Linear(hidden_dim, output_dim) \n",
        " \n",
        "    def forward(self, x):\n",
        "        # Linear function 1\n",
        "        out = self.fc1(x)\n",
        "        # Non-linearity 1\n",
        "        out = self.ReLU1(out)\n",
        " \n",
        "        # Linear function 2\n",
        "        out = self.fc2(out)\n",
        "        # Non-linearity 2\n",
        "        out = self.ReLU2(out)\n",
        " \n",
        "        # Linear function 2\n",
        "        out = self.fc3(out)\n",
        "        # Non-linearity 2\n",
        "        out = self.ReLU3(out)\n",
        " \n",
        "        # Linear function 4 (readout)\n",
        "        out = self.fc4(out)\n",
        "        return out"
      ],
      "execution_count": null,
      "outputs": []
    },
    {
      "cell_type": "code",
      "metadata": {
        "id": "SmBubJwEFuB8"
      },
      "source": [
        "input_dim = 32*32\n",
        "hidden_dim = 100\n",
        "output_dim = 2\n",
        "\n",
        "model = FeedforwardNeuralNetModel_ReLU(input_dim, hidden_dim, output_dim)"
      ],
      "execution_count": null,
      "outputs": []
    },
    {
      "cell_type": "code",
      "metadata": {
        "id": "TEIOgujSFvlm"
      },
      "source": [
        "criterion = nn.CrossEntropyLoss()"
      ],
      "execution_count": null,
      "outputs": []
    },
    {
      "cell_type": "code",
      "metadata": {
        "id": "wy62kD02F4aB"
      },
      "source": [
        "learning_rate = 0.1\n",
        "\n",
        "optimizer = torch.optim.SGD(model.parameters(), lr=learning_rate)"
      ],
      "execution_count": null,
      "outputs": []
    },
    {
      "cell_type": "code",
      "metadata": {
        "colab": {
          "base_uri": "https://localhost:8080/"
        },
        "id": "opSsvygZGAu9",
        "outputId": "d5399bd8-9c34-4819-f3bc-445fd2dcabee"
      },
      "source": [
        "print(model.parameters())\n",
        "print(len(list(model.parameters())))\n",
        "# FC 1 Parameters \n",
        "print(list(model.parameters())[0].size())\n",
        "# FC 1 Bias Parameters\n",
        "print(list(model.parameters())[1].size())\n",
        "# FC 2 Parameters\n",
        "print(list(model.parameters())[2].size())\n",
        "# FC 2 Bias Parameters\n",
        "print(list(model.parameters())[3].size())\n",
        "# FC 3 Parameters\n",
        "print(list(model.parameters())[4].size())\n",
        "# FC 3 Bias Parameters\n",
        "print(list(model.parameters())[5].size())\n",
        "# FC 4 Parameters\n",
        "print(list(model.parameters())[6].size())\n",
        "# FC 4 Bias Parameters\n",
        "print(list(model.parameters())[7].size())"
      ],
      "execution_count": null,
      "outputs": [
        {
          "output_type": "stream",
          "name": "stdout",
          "text": [
            "<generator object Module.parameters at 0x7ff69bdbcbd0>\n",
            "8\n",
            "torch.Size([100, 1024])\n",
            "torch.Size([100])\n",
            "torch.Size([100, 100])\n",
            "torch.Size([100])\n",
            "torch.Size([100, 100])\n",
            "torch.Size([100])\n",
            "torch.Size([2, 100])\n",
            "torch.Size([2])\n"
          ]
        }
      ]
    },
    {
      "cell_type": "code",
      "metadata": {
        "colab": {
          "base_uri": "https://localhost:8080/"
        },
        "id": "wxb-7t05GIcT",
        "outputId": "af3364e9-f440-4e7a-ee93-a897969b783f"
      },
      "source": [
        "iter = 0\n",
        "for epoch in range(num_epochs):\n",
        "    for i, (images, labels) in enumerate(train_loader):\n",
        "        # Load images with gradient accumulation capabilities\n",
        "        images = images.view(-1, 32*32).requires_grad_()\n",
        "\n",
        "        # Clear gradients w.r.t. parameters\n",
        "        optimizer.zero_grad()\n",
        "\n",
        "        # Forward pass to get output/logits\n",
        "        outputs = model(images)\n",
        "        \n",
        "\n",
        "        # Calculate Loss: softmax --> cross entropy loss\n",
        "        loss = criterion(outputs, labels)\n",
        "\n",
        "        # Getting gradients w.r.t. parameters\n",
        "        loss.backward()\n",
        "\n",
        "        # Updating parameters\n",
        "        optimizer.step()\n",
        "\n",
        "        iter += 1\n",
        "\n",
        "        if iter % 500 == 0:\n",
        "            # Calculate Accuracy         \n",
        "            correct = 0\n",
        "            total = 0\n",
        "            # Iterate through test dataset\n",
        "            for images, labels in test_loader:\n",
        "                # Load images with gradient accumulation capabilities\n",
        "                images = images.view(-1, 32*32).requires_grad_()\n",
        "\n",
        "                # Forward pass only to get logits/output\n",
        "                outputs = model(images)\n",
        "\n",
        "                # Get predictions from the maximum value\n",
        "                _, predicted = torch.max(outputs.data, 1)\n",
        "\n",
        "                # Total number of labels\n",
        "                total += labels.size(0)\n",
        "\n",
        "                # Total correct predictions\n",
        "                correct += (predicted == labels).sum()\n",
        "\n",
        "            accuracy = 100 * correct / total\n",
        "\n",
        "            # Print Loss\n",
        "            print('Iteration: {}. Loss: {}. Accuracy: {}'.format(iter, loss.item(), accuracy))\n",
        "            ReLU_accuracy=float(accuracy)\n",
        "            ReLU_loss=loss.item()"
      ],
      "execution_count": null,
      "outputs": [
        {
          "output_type": "stream",
          "name": "stdout",
          "text": [
            "Iteration: 500. Loss: 0.20543065667152405. Accuracy: 63.0\n",
            "Iteration: 1000. Loss: 0.22885221242904663. Accuracy: 69.0\n",
            "Iteration: 1500. Loss: 0.13131636381149292. Accuracy: 77.0\n",
            "Iteration: 2000. Loss: 0.09727530181407928. Accuracy: 55.0\n",
            "Iteration: 2500. Loss: 0.5115066766738892. Accuracy: 94.0\n",
            "Iteration: 3000. Loss: 0.03987513482570648. Accuracy: 65.0\n"
          ]
        }
      ]
    },
    {
      "cell_type": "markdown",
      "metadata": {
        "id": "1tM9nghUJf-G"
      },
      "source": [
        " **Leaky ReLU Activation**"
      ]
    },
    {
      "cell_type": "code",
      "metadata": {
        "id": "1xzsfsoTJebR"
      },
      "source": [
        "class FeedforwardNeuralNetModel_LeakyReLU(nn.Module):\n",
        "    def __init__(self, input_dim, hidden_dim, output_dim):\n",
        "        super(FeedforwardNeuralNetModel_LeakyReLU, self).__init__()\n",
        "        self.fc1 = nn.Linear(input_dim, hidden_dim) \n",
        "        # Non-linearity 1\n",
        "        self.LeakyReLU1 = nn.LeakyReLU()\n",
        " \n",
        "        # Linear function 2: 100 --> 100\n",
        "        self.fc2 = nn.Linear(hidden_dim, hidden_dim)\n",
        "        # Non-linearity 2\n",
        "        self.LeakyReLU2 = nn.LeakyReLU()\n",
        " \n",
        "        # Linear function 3: 100 --> 100\n",
        "        self.fc3 = nn.Linear(hidden_dim, hidden_dim)\n",
        "        # Non-linearity 3\n",
        "        self.LeakyReLU3 = nn.LeakyReLU()\n",
        " \n",
        "        # Linear function 4 (readout): 100 --> 10\n",
        "        self.fc4 = nn.Linear(hidden_dim, output_dim) \n",
        " \n",
        "    def forward(self, x):\n",
        "        # Linear function 1\n",
        "        out = self.fc1(x)\n",
        "        # Non-linearity 1\n",
        "        out = self.LeakyReLU1(out)\n",
        " \n",
        "        # Linear function 2\n",
        "        out = self.fc2(out)\n",
        "        # Non-linearity 2\n",
        "        out = self.LeakyReLU2(out)\n",
        " \n",
        "        # Linear function 2\n",
        "        out = self.fc3(out)\n",
        "        # Non-linearity 2\n",
        "        out = self.LeakyReLU3(out)\n",
        " \n",
        "        # Linear function 4 (readout)\n",
        "        out = self.fc4(out)\n",
        "        return out"
      ],
      "execution_count": null,
      "outputs": []
    },
    {
      "cell_type": "code",
      "metadata": {
        "id": "wTEO0zEXKO0U"
      },
      "source": [
        "input_dim = 32*32\n",
        "hidden_dim = 100\n",
        "output_dim = 2\n",
        "\n",
        "model = FeedforwardNeuralNetModel_LeakyReLU(input_dim, hidden_dim, output_dim)"
      ],
      "execution_count": null,
      "outputs": []
    },
    {
      "cell_type": "code",
      "metadata": {
        "id": "Qe7zMOebKcQS"
      },
      "source": [
        "criterion = nn.CrossEntropyLoss()"
      ],
      "execution_count": null,
      "outputs": []
    },
    {
      "cell_type": "code",
      "metadata": {
        "id": "-T1dHn2QKgzs"
      },
      "source": [
        "learning_rate = 0.1\n",
        "\n",
        "optimizer = torch.optim.SGD(model.parameters(), lr=learning_rate)"
      ],
      "execution_count": null,
      "outputs": []
    },
    {
      "cell_type": "code",
      "metadata": {
        "colab": {
          "base_uri": "https://localhost:8080/"
        },
        "id": "N7T388sNKlUy",
        "outputId": "11dd07dc-6cf1-4217-c3ab-898e93819084"
      },
      "source": [
        "print(model.parameters())\n",
        "print(len(list(model.parameters())))\n",
        "# FC 1 Parameters \n",
        "print(list(model.parameters())[0].size())\n",
        "# FC 1 Bias Parameters\n",
        "print(list(model.parameters())[1].size())\n",
        "# FC 2 Parameters\n",
        "print(list(model.parameters())[2].size())\n",
        "# FC 2 Bias Parameters\n",
        "print(list(model.parameters())[3].size())\n",
        "# FC 3 Parameters\n",
        "print(list(model.parameters())[4].size())\n",
        "# FC 3 Bias Parameters\n",
        "print(list(model.parameters())[5].size())\n",
        "# FC 4 Parameters\n",
        "print(list(model.parameters())[6].size())\n",
        "# FC 4 Bias Parameters\n",
        "print(list(model.parameters())[7].size())"
      ],
      "execution_count": null,
      "outputs": [
        {
          "output_type": "stream",
          "name": "stdout",
          "text": [
            "<generator object Module.parameters at 0x7ff69bd82650>\n",
            "8\n",
            "torch.Size([100, 1024])\n",
            "torch.Size([100])\n",
            "torch.Size([100, 100])\n",
            "torch.Size([100])\n",
            "torch.Size([100, 100])\n",
            "torch.Size([100])\n",
            "torch.Size([2, 100])\n",
            "torch.Size([2])\n"
          ]
        }
      ]
    },
    {
      "cell_type": "code",
      "metadata": {
        "colab": {
          "base_uri": "https://localhost:8080/"
        },
        "id": "hdSTNipeKrPI",
        "outputId": "594ef1c4-173f-4e6b-f758-e6e415fa9e4e"
      },
      "source": [
        "iter = 0\n",
        "for epoch in range(num_epochs):\n",
        "    for i, (images, labels) in enumerate(train_loader):\n",
        "        # Load images with gradient accumulation capabilities\n",
        "        images = images.view(-1, 32*32).requires_grad_()\n",
        "\n",
        "        # Clear gradients w.r.t. parameters\n",
        "        optimizer.zero_grad()\n",
        "\n",
        "        # Forward pass to get output/logits\n",
        "        outputs = model(images)\n",
        "        \n",
        "\n",
        "        # Calculate Loss: softmax --> cross entropy loss\n",
        "        loss = criterion(outputs, labels)\n",
        "\n",
        "        # Getting gradients w.r.t. parameters\n",
        "        loss.backward()\n",
        "\n",
        "        # Updating parameters\n",
        "        optimizer.step()\n",
        "\n",
        "        iter += 1\n",
        "\n",
        "        if iter % 500 == 0:\n",
        "            # Calculate Accuracy         \n",
        "            correct = 0\n",
        "            total = 0\n",
        "            # Iterate through test dataset\n",
        "            for images, labels in test_loader:\n",
        "                # Load images with gradient accumulation capabilities\n",
        "                images = images.view(-1, 32*32).requires_grad_()\n",
        "\n",
        "                # Forward pass only to get logits/output\n",
        "                outputs = model(images)\n",
        "\n",
        "                # Get predictions from the maximum value\n",
        "                _, predicted = torch.max(outputs.data, 1)\n",
        "\n",
        "                # Total number of labels\n",
        "                total += labels.size(0)\n",
        "\n",
        "                # Total correct predictions\n",
        "                correct += (predicted == labels).sum()\n",
        "\n",
        "            accuracy = 100 * correct / total\n",
        "\n",
        "            # Print Loss\n",
        "            print('Iteration: {}. Loss: {}. Accuracy: {}'.format(iter, loss.item(), accuracy))\n",
        "            LeakyReLU_accuracy=float(accuracy)\n",
        "            LeakyReLU_loss=loss.item()"
      ],
      "execution_count": null,
      "outputs": [
        {
          "output_type": "stream",
          "name": "stdout",
          "text": [
            "Iteration: 500. Loss: 0.4824734628200531. Accuracy: 84.0\n",
            "Iteration: 1000. Loss: 0.14652083814144135. Accuracy: 53.0\n",
            "Iteration: 1500. Loss: 0.13111621141433716. Accuracy: 80.0\n",
            "Iteration: 2000. Loss: 0.11044450849294662. Accuracy: 60.0\n",
            "Iteration: 2500. Loss: 0.08777045458555222. Accuracy: 66.0\n",
            "Iteration: 3000. Loss: 0.08250164240598679. Accuracy: 68.0\n"
          ]
        }
      ]
    },
    {
      "cell_type": "markdown",
      "metadata": {
        "id": "LSnKm1-pRbSp"
      },
      "source": [
        "**Visualization**"
      ]
    },
    {
      "cell_type": "code",
      "metadata": {
        "id": "YsOBCLrtN3iE"
      },
      "source": [
        "import matplotlib.pyplot as plt"
      ],
      "execution_count": null,
      "outputs": []
    },
    {
      "cell_type": "code",
      "metadata": {
        "colab": {
          "base_uri": "https://localhost:8080/",
          "height": 404
        },
        "id": "CtjHc0SASpgX",
        "outputId": "1bbb55cd-32d2-4924-bf0f-8af12575a069"
      },
      "source": [
        "plt.figure(figsize=(7,6))\n",
        "x=range(4)\n",
        "accuracy=[Sigmoid_accuracy,tanh_accuracy,ReLU_accuracy,LeakyReLU_accuracy]\n",
        "plt.bar(x,accuracy)\n",
        "title=['Sigmoid','Tanh','ReLU','LeakyReLU']\n",
        "plt.xticks(x,title)\n",
        "plt.xlabel('Activation Function')\n",
        "plt.ylabel('Accuracy')\n",
        "plt.title('Accuracy Comparision')\n",
        "plt.show()"
      ],
      "execution_count": null,
      "outputs": [
        {
          "output_type": "display_data",
          "data": {
            "image/png": "[encoded data removed]",
            "text/plain": [
              "<Figure size 504x432 with 1 Axes>"
            ]
          },
          "metadata": {
            "needs_background": "light"
          }
        }
      ]
    },
    {
      "cell_type": "code",
      "metadata": {
        "id": "OFGI725FrldO"
      },
      "source": [
        ""
      ],
      "execution_count": null,
      "outputs": []
    }
  ]
}